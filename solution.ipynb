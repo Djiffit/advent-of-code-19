{
 "cells": [
  {
   "cell_type": "code",
   "execution_count": 65,
   "metadata": {},
   "outputs": [
    {
     "name": "stdout",
     "output_type": "stream",
     "text": [
      "9759389 14635858\n"
     ]
    }
   ],
   "source": [
    "def fueling(data):\n",
    "    \n",
    "p1 = []\n",
    "p2 = []\n",
    "for r in rin:\n",
    "    nm = ((r//3)-2)\n",
    "    p1.append(nm)\n",
    "    p2.append(nm)\n",
    "    while True:\n",
    "        nm = ((nm//3)-2)\n",
    "        if nm <= 0: break\n",
    "        p2.append(nm)\n",
    "\n",
    "print(sum(p1))\n",
    "print(sum(p2))\n",
    "\n",
    "with open('1') as f:\n",
    "    data = f.readlines()\n",
    "    fueling(data)\n",
    "    "
   ]
  },
  {
   "cell_type": "code",
   "execution_count": null,
   "metadata": {},
   "outputs": [],
   "source": [
    "3252897\n",
    "4876469\n"
   ]
  },
  {
   "cell_type": "code",
   "execution_count": null,
   "metadata": {},
   "outputs": [],
   "source": []
  },
  {
   "cell_type": "code",
   "execution_count": null,
   "metadata": {},
   "outputs": [],
   "source": []
  }
 ],
 "metadata": {
  "kernelspec": {
   "display_name": "Python 3",
   "language": "python",
   "name": "python3"
  },
  "language_info": {
   "codemirror_mode": {
    "name": "ipython",
    "version": 3
   },
   "file_extension": ".py",
   "mimetype": "text/x-python",
   "name": "python",
   "nbconvert_exporter": "python",
   "pygments_lexer": "ipython3",
   "version": "3.7.3"
  }
 },
 "nbformat": 4,
 "nbformat_minor": 2
}
