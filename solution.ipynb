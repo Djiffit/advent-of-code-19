{
 "cells": [
  {
   "cell_type": "code",
   "execution_count": 87,
   "metadata": {},
   "outputs": [
    {
     "name": "stdout",
     "output_type": "stream",
     "text": [
      "3252897 4876469\n"
     ]
    }
   ],
   "source": [
    "def count_fuel(weight, total=0):\n",
    "    while weight > 0:\n",
    "        weight = weight // 3 - 2\n",
    "        total += max(weight, 0)\n",
    "    return total\n",
    "\n",
    "def fueling(data):\n",
    "    weights = [max((int(d) // 3) - 2, 0) for d in data]\n",
    "    fuels = sum([count_fuel(x) for x in nums])\n",
    "    print(sum(weights), sum(weights) + fuels)\n",
    "\n",
    "with open('1') as f:\n",
    "    fueling(f.readlines())\n",
    "    "
   ]
  },
  {
   "cell_type": "code",
   "execution_count": 81,
   "metadata": {},
   "outputs": [],
   "source": []
  },
  {
   "cell_type": "code",
   "execution_count": null,
   "metadata": {},
   "outputs": [],
   "source": []
  },
  {
   "cell_type": "code",
   "execution_count": null,
   "metadata": {},
   "outputs": [],
   "source": []
  },
  {
   "cell_type": "code",
   "execution_count": null,
   "metadata": {},
   "outputs": [],
   "source": []
  }
 ],
 "metadata": {
  "kernelspec": {
   "display_name": "Python 3",
   "language": "python",
   "name": "python3"
  },
  "language_info": {
   "codemirror_mode": {
    "name": "ipython",
    "version": 3
   },
   "file_extension": ".py",
   "mimetype": "text/x-python",
   "name": "python",
   "nbconvert_exporter": "python",
   "pygments_lexer": "ipython3",
   "version": "3.7.3"
  }
 },
 "nbformat": 4,
 "nbformat_minor": 2
}
