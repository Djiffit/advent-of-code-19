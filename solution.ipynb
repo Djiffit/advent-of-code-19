{
 "cells": [
  {
   "cell_type": "code",
   "execution_count": 4,
   "metadata": {},
   "outputs": [],
   "source": [
    "import re\n",
    "import numpy as np\n",
    "from functools import reduce\n",
    "from collections import defaultdict\n",
    "from string import ascii_uppercase, ascii_lowercase\n",
    "\n",
    "def find_nums(s, neg = False):\n",
    "    if neg:\n",
    "        return re.findall(r'-?\\d+', s)\n",
    "    return re.findall(r'\\d+', s)"
   ]
  },
  {
   "cell_type": "code",
   "execution_count": 3,
   "metadata": {},
   "outputs": [
    {
     "name": "stdout",
     "output_type": "stream",
     "text": [
      "3252897 4876469\n"
     ]
    }
   ],
   "source": [
    "# 1\n",
    "\n",
    "def count_fuel(weight):\n",
    "    weight = weight // 3 - 2\n",
    "    if weight > 0: return weight + count_fuel(weight)\n",
    "    return 0\n",
    "\n",
    "def fueling(data):\n",
    "    weights = [max((int(d) // 3) - 2, 0) for d in data]\n",
    "    fuels = sum([count_fuel(x) for x in weights])\n",
    "    print(sum(weights), sum(weights) + fuels)\n",
    "\n",
    "with open('1') as f:\n",
    "    fueling(f.read().split('\\n'))\n"
   ]
  },
  {
   "cell_type": "code",
   "execution_count": 77,
   "metadata": {},
   "outputs": [
    {
     "name": "stdout",
     "output_type": "stream",
     "text": [
      "490699\n",
      "64 21\n"
     ]
    }
   ],
   "source": [
    "# 2\n",
    "\n",
    "def opcodes(d, p1=True):\n",
    "    for x in range(100):\n",
    "        for y in range(100):\n",
    "            data = [*(map(int, d))]\n",
    "            data[1] = x\n",
    "            data[2] = y\n",
    "            i = 0\n",
    "            while True:\n",
    "                if i > len(data) - 3:\n",
    "                    op, f, s, res = data[i:i + 4] + data[:((i + 4) % len(data))]\n",
    "                else:\n",
    "                    op, f, s, res = data[i:i+4]\n",
    "                newpos = int(res) % int(len(data))\n",
    "                if op == 99:\n",
    "                    if p1:\n",
    "                        print(data[0])\n",
    "                        return\n",
    "                    else:\n",
    "                        if data[0] == 19690720:\n",
    "                            print(x, y)\n",
    "                            return\n",
    "                    break\n",
    "                elif op == 1:\n",
    "                    data[newpos] = data[f] + data[s]\n",
    "                elif op == 2:\n",
    "                    data[newpos] = data[f] * data[s]\n",
    "\n",
    "                i = (i + 4) % len(data)\n",
    "\n",
    "with open('2') as f:\n",
    "    lines = f.read().split(',')\n",
    "    opcodes(lines)\n",
    "    opcodes(lines, False)"
   ]
  },
  {
   "cell_type": "code",
   "execution_count": 3,
   "metadata": {},
   "outputs": [
    {
     "name": "stdout",
     "output_type": "stream",
     "text": [
      "1017\n",
      "11432\n"
     ]
    }
   ],
   "source": [
    "# 3\n",
    "\n",
    "def wire_crossing(lines):\n",
    "    intersects = set([])\n",
    "    points = [{},{}]\n",
    "    dx = {'L': -1, 'R': 1, 'U': 0, 'D': 0}\n",
    "    dy = {'L': 0, 'R': 0, 'U': 1, 'D': -1}\n",
    "    for i, line in enumerate(lines):\n",
    "        x=y=0\n",
    "        directions = line.split(',')\n",
    "        curr_dist = 0\n",
    "        for d in directions:\n",
    "            length = int(find_nums(d)[0])\n",
    "            di = d[0]\n",
    "            for j in range(length):\n",
    "                x += dx[di]\n",
    "                y += dy[di]\n",
    "                curr_dist += 1\n",
    "                \n",
    "                if (x, y) not in points[i]:\n",
    "                    points[i][(x, y)] = curr_dist\n",
    "                    if i == 1 and (x, y) in points[0]:\n",
    "                        intersects.add((x, y, points[1][(x, y)] + points[0][(x, y)]))\n",
    "                        \n",
    "    print(sorted([abs(p[0]) + abs(p[1]) for p in intersects])[0])\n",
    "    print(sorted([abs(p[2]) for p in intersects])[0])\n",
    "                \n",
    "with open('3') as f:\n",
    "    lines = f.readlines()\n",
    "    wire_crossing(lines)\n",
    "    "
   ]
  },
  {
   "cell_type": "code",
   "execution_count": 109,
   "metadata": {},
   "outputs": [
    {
     "name": "stdout",
     "output_type": "stream",
     "text": [
      "1148\n"
     ]
    }
   ],
   "source": [
    "# 4\n",
    "def passswordssses(nums):\n",
    "    start, end = [int(x) for x in num]\n",
    "    valid_password = 0\n",
    "    for i in range(start, end + 1):\n",
    "        i = [*str(i)]\n",
    "        first,second,third,fourth,fifth,sixth = i\n",
    "        if first <= second <= third <= fourth <= fifth <= sixth:\n",
    "            counts = defaultdict(int)\n",
    "            for c in i:\n",
    "                counts[c] += 1\n",
    "            valid_password += any([v == 2 for v in counts.values()])\n",
    "\n",
    "    print(valid_password)\n",
    "    \n",
    "with open('4') as f:\n",
    "    lines = f.read().split('-')\n",
    "    passswordsss()"
   ]
  },
  {
   "cell_type": "code",
   "execution_count": 33,
   "metadata": {},
   "outputs": [
    {
     "name": "stdout",
     "output_type": "stream",
     "text": [
      "54\n",
      "4\n"
     ]
    }
   ],
   "source": [
    "# 6\n",
    "\n",
    "class Node:\n",
    "    def __init__(self, val):\n",
    "        self.parents = []\n",
    "        self.children = []\n",
    "        self.val = val\n",
    "\n",
    "def recurse_tree(node, depth):\n",
    "    total = depth\n",
    "    for n in node.children:\n",
    "        total += recurse_tree(n, depth + 1)\n",
    "    return total\n",
    "        \n",
    "def solve6(data):\n",
    "    nodes = {}\n",
    "    directs = 0\n",
    "    \n",
    "    for target, orbiter in [d.split(')') for d in data]:\n",
    "        if target not in nodes:\n",
    "            nodes[target] = Node(target)\n",
    "        if orbiter not in nodes:\n",
    "            nodes[orbiter] = Node(orbiter)\n",
    "        nodes[target].children += [nodes[orbiter]]\n",
    "        nodes[orbiter].parents += [nodes[target]]\n",
    "        directs += 1\n",
    "        \n",
    "    for n in nodes.values():\n",
    "        if len(n.parents) == 0:\n",
    "            for node in n.children:\n",
    "                indirects = recurse_tree(node, 0)\n",
    "                \n",
    "    print(directs + indirects)\n",
    "    \n",
    "    queue = [(n, 1) for n in nodes['YOU'].children + nodes['YOU'].parents]\n",
    "    visited = set(queue)\n",
    "    while len(queue) > 0:\n",
    "        curr, dist = queue.pop(0)\n",
    "        if curr.val == 'SAN':\n",
    "            print(dist - 2)\n",
    "            break\n",
    "        for n in curr.children + curr.parents:\n",
    "            if n not in visited:\n",
    "                queue += [(n, dist + 1)]\n",
    "            \n",
    "        visited.add(curr)\n",
    "            \n",
    "\n",
    "with open('6') as f:\n",
    "    lines = f.read().split('\\n')\n",
    "    solve6(lines)"
   ]
  },
  {
   "cell_type": "code",
   "execution_count": null,
   "metadata": {},
   "outputs": [],
   "source": []
  },
  {
   "cell_type": "code",
   "execution_count": null,
   "metadata": {},
   "outputs": [],
   "source": []
  },
  {
   "cell_type": "code",
   "execution_count": null,
   "metadata": {},
   "outputs": [],
   "source": []
  },
  {
   "cell_type": "code",
   "execution_count": null,
   "metadata": {},
   "outputs": [],
   "source": []
  },
  {
   "cell_type": "code",
   "execution_count": null,
   "metadata": {},
   "outputs": [],
   "source": []
  },
  {
   "cell_type": "code",
   "execution_count": null,
   "metadata": {},
   "outputs": [],
   "source": []
  },
  {
   "cell_type": "code",
   "execution_count": null,
   "metadata": {},
   "outputs": [],
   "source": []
  },
  {
   "cell_type": "code",
   "execution_count": null,
   "metadata": {},
   "outputs": [],
   "source": []
  },
  {
   "cell_type": "code",
   "execution_count": null,
   "metadata": {},
   "outputs": [],
   "source": []
  },
  {
   "cell_type": "code",
   "execution_count": null,
   "metadata": {},
   "outputs": [],
   "source": []
  },
  {
   "cell_type": "code",
   "execution_count": null,
   "metadata": {},
   "outputs": [],
   "source": []
  },
  {
   "cell_type": "code",
   "execution_count": null,
   "metadata": {},
   "outputs": [],
   "source": []
  },
  {
   "cell_type": "code",
   "execution_count": null,
   "metadata": {},
   "outputs": [],
   "source": []
  },
  {
   "cell_type": "code",
   "execution_count": null,
   "metadata": {},
   "outputs": [],
   "source": []
  },
  {
   "cell_type": "code",
   "execution_count": null,
   "metadata": {},
   "outputs": [],
   "source": []
  },
  {
   "cell_type": "code",
   "execution_count": null,
   "metadata": {},
   "outputs": [],
   "source": []
  },
  {
   "cell_type": "code",
   "execution_count": null,
   "metadata": {},
   "outputs": [],
   "source": []
  },
  {
   "cell_type": "code",
   "execution_count": null,
   "metadata": {},
   "outputs": [],
   "source": []
  },
  {
   "cell_type": "code",
   "execution_count": null,
   "metadata": {},
   "outputs": [],
   "source": []
  },
  {
   "cell_type": "code",
   "execution_count": null,
   "metadata": {},
   "outputs": [],
   "source": []
  },
  {
   "cell_type": "code",
   "execution_count": null,
   "metadata": {},
   "outputs": [],
   "source": []
  },
  {
   "cell_type": "code",
   "execution_count": null,
   "metadata": {},
   "outputs": [],
   "source": []
  },
  {
   "cell_type": "code",
   "execution_count": null,
   "metadata": {},
   "outputs": [],
   "source": []
  }
 ],
 "metadata": {
  "kernelspec": {
   "display_name": "Python 3",
   "language": "python",
   "name": "python3"
  },
  "language_info": {
   "codemirror_mode": {
    "name": "ipython",
    "version": 3
   },
   "file_extension": ".py",
   "mimetype": "text/x-python",
   "name": "python",
   "nbconvert_exporter": "python",
   "pygments_lexer": "ipython3",
   "version": "3.7.3"
  }
 },
 "nbformat": 4,
 "nbformat_minor": 4
}
