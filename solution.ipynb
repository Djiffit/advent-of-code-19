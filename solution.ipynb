{
 "cells": [
  {
   "cell_type": "code",
   "execution_count": 4,
   "metadata": {},
   "outputs": [],
   "source": [
    "import re\n",
    "import numpy as np\n",
    "from functools import reduce\n",
    "from collections import defaultdict\n",
    "from string import ascii_uppercase, ascii_lowercase\n",
    "\n",
    "def find_nums(s, neg = False):\n",
    "    if neg:\n",
    "        return re.findall(r'-?\\d+', s)\n",
    "    return re.findall(r'\\d+', s)"
   ]
  },
  {
   "cell_type": "code",
   "execution_count": 3,
   "metadata": {},
   "outputs": [
    {
     "name": "stdout",
     "output_type": "stream",
     "text": [
      "3252897 4876469\n"
     ]
    }
   ],
   "source": [
    "# 1\n",
    "\n",
    "def count_fuel(weight):\n",
    "    weight = weight // 3 - 2\n",
    "    if weight > 0: return weight + count_fuel(weight)\n",
    "    return 0\n",
    "\n",
    "def fueling(data):\n",
    "    weights = [max((int(d) // 3) - 2, 0) for d in data]\n",
    "    fuels = sum([count_fuel(x) for x in weights])\n",
    "    print(sum(weights), sum(weights) + fuels)\n",
    "\n",
    "with open('1') as f:\n",
    "    fueling(f.read().split('\\n'))\n"
   ]
  },
  {
   "cell_type": "code",
   "execution_count": 77,
   "metadata": {},
   "outputs": [
    {
     "name": "stdout",
     "output_type": "stream",
     "text": [
      "490699\n",
      "64 21\n"
     ]
    }
   ],
   "source": [
    "# 2\n",
    "\n",
    "def opcodes(d, p1=True):\n",
    "    for x in range(100):\n",
    "        for y in range(100):\n",
    "            data = [*(map(int, d))]\n",
    "            data[1] = x\n",
    "            data[2] = y\n",
    "            i = 0\n",
    "            while True:\n",
    "                if i > len(data) - 3:\n",
    "                    op, f, s, res = data[i:i + 4] + data[:((i + 4) % len(data))]\n",
    "                else:\n",
    "                    op, f, s, res = data[i:i+4]\n",
    "                newpos = int(res) % int(len(data))\n",
    "                if op == 99:\n",
    "                    if p1:\n",
    "                        print(data[0])\n",
    "                        return\n",
    "                    else:\n",
    "                        if data[0] == 19690720:\n",
    "                            print(x, y)\n",
    "                            return\n",
    "                    break\n",
    "                elif op == 1:\n",
    "                    data[newpos] = data[f] + data[s]\n",
    "                elif op == 2:\n",
    "                    data[newpos] = data[f] * data[s]\n",
    "\n",
    "                i = (i + 4) % len(data)\n",
    "\n",
    "with open('2') as f:\n",
    "    lines = f.read().split(',')\n",
    "    opcodes(lines)\n",
    "    opcodes(lines, False)"
   ]
  },
  {
   "cell_type": "code",
   "execution_count": 3,
   "metadata": {},
   "outputs": [
    {
     "name": "stdout",
     "output_type": "stream",
     "text": [
      "1017\n",
      "11432\n"
     ]
    }
   ],
   "source": [
    "# 3\n",
    "\n",
    "def wire_crossing(lines):\n",
    "    intersects = set([])\n",
    "    points = [{},{}]\n",
    "    dx = {'L': -1, 'R': 1, 'U': 0, 'D': 0}\n",
    "    dy = {'L': 0, 'R': 0, 'U': 1, 'D': -1}\n",
    "    for i, line in enumerate(lines):\n",
    "        x=y=0\n",
    "        directions = line.split(',')\n",
    "        curr_dist = 0\n",
    "        for d in directions:\n",
    "            length = int(find_nums(d)[0])\n",
    "            di = d[0]\n",
    "            for j in range(length):\n",
    "                x += dx[di]\n",
    "                y += dy[di]\n",
    "                curr_dist += 1\n",
    "                \n",
    "                if (x, y) not in points[i]:\n",
    "                    points[i][(x, y)] = curr_dist\n",
    "                    if i == 1 and (x, y) in points[0]:\n",
    "                        intersects.add((x, y, points[1][(x, y)] + points[0][(x, y)]))\n",
    "                        \n",
    "    print(sorted([abs(p[0]) + abs(p[1]) for p in intersects])[0])\n",
    "    print(sorted([abs(p[2]) for p in intersects])[0])\n",
    "                \n",
    "with open('3') as f:\n",
    "    lines = f.readlines()\n",
    "    wire_crossing(lines)\n",
    "    "
   ]
  },
  {
   "cell_type": "code",
   "execution_count": 109,
   "metadata": {},
   "outputs": [
    {
     "name": "stdout",
     "output_type": "stream",
     "text": [
      "1148\n"
     ]
    }
   ],
   "source": [
    "# 4\n",
    "def passswordssses(nums):\n",
    "    start, end = [int(x) for x in num]\n",
    "    valid_password = 0\n",
    "    for i in range(start, end + 1):\n",
    "        i = [*str(i)]\n",
    "        first,second,third,fourth,fifth,sixth = i\n",
    "        if first <= second <= third <= fourth <= fifth <= sixth:\n",
    "            counts = defaultdict(int)\n",
    "            for c in i:\n",
    "                counts[c] += 1\n",
    "            valid_password += any([v == 2 for v in counts.values()])\n",
    "\n",
    "    print(valid_password)\n",
    "    \n",
    "with open('4') as f:\n",
    "    lines = f.read().split('-')\n",
    "    passswordsss()"
   ]
  },
  {
   "cell_type": "code",
   "execution_count": null,
   "metadata": {},
   "outputs": [],
   "source": []
  },
  {
   "cell_type": "code",
   "execution_count": 105,
   "metadata": {},
   "outputs": [
    {
     "data": {
      "text/plain": [
       "{'156666',\n",
       " '157777',\n",
       " '158888',\n",
       " '159999',\n",
       " '166667',\n",
       " '166668',\n",
       " '166669',\n",
       " '167777',\n",
       " '168888',\n",
       " '169999',\n",
       " '177778',\n",
       " '177779',\n",
       " '178888',\n",
       " '179999',\n",
       " '188889',\n",
       " '189999',\n",
       " '222222',\n",
       " '222234',\n",
       " '222235',\n",
       " '222236',\n",
       " '222237',\n",
       " '222238',\n",
       " '222239',\n",
       " '222245',\n",
       " '222246',\n",
       " '222247',\n",
       " '222248',\n",
       " '222249',\n",
       " '222256',\n",
       " '222257',\n",
       " '222258',\n",
       " '222259',\n",
       " '222267',\n",
       " '222268',\n",
       " '222269',\n",
       " '222278',\n",
       " '222279',\n",
       " '222289',\n",
       " '233334',\n",
       " '233335',\n",
       " '233336',\n",
       " '233337',\n",
       " '233338',\n",
       " '233339',\n",
       " '234444',\n",
       " '235555',\n",
       " '236666',\n",
       " '237777',\n",
       " '238888',\n",
       " '239999',\n",
       " '244445',\n",
       " '244446',\n",
       " '244447',\n",
       " '244448',\n",
       " '244449',\n",
       " '245555',\n",
       " '246666',\n",
       " '247777',\n",
       " '248888',\n",
       " '249999',\n",
       " '255556',\n",
       " '255557',\n",
       " '255558',\n",
       " '255559',\n",
       " '256666',\n",
       " '257777',\n",
       " '258888',\n",
       " '259999',\n",
       " '266667',\n",
       " '266668',\n",
       " '266669',\n",
       " '267777',\n",
       " '268888',\n",
       " '269999',\n",
       " '277778',\n",
       " '277779',\n",
       " '278888',\n",
       " '279999',\n",
       " '288889',\n",
       " '289999',\n",
       " '333333',\n",
       " '333345',\n",
       " '333346',\n",
       " '333347',\n",
       " '333348',\n",
       " '333349',\n",
       " '333356',\n",
       " '333357',\n",
       " '333358',\n",
       " '333359',\n",
       " '333367',\n",
       " '333368',\n",
       " '333369',\n",
       " '333378',\n",
       " '333379',\n",
       " '333389',\n",
       " '344445',\n",
       " '344446',\n",
       " '344447',\n",
       " '344448',\n",
       " '344449',\n",
       " '345555',\n",
       " '346666',\n",
       " '347777',\n",
       " '348888',\n",
       " '349999',\n",
       " '355556',\n",
       " '355557',\n",
       " '355558',\n",
       " '355559',\n",
       " '356666',\n",
       " '357777',\n",
       " '358888',\n",
       " '359999',\n",
       " '366667',\n",
       " '366668',\n",
       " '366669',\n",
       " '367777',\n",
       " '368888',\n",
       " '369999',\n",
       " '377778',\n",
       " '377779',\n",
       " '378888',\n",
       " '379999',\n",
       " '388889',\n",
       " '389999',\n",
       " '444444',\n",
       " '444456',\n",
       " '444457',\n",
       " '444458',\n",
       " '444459',\n",
       " '444467',\n",
       " '444468',\n",
       " '444469',\n",
       " '444478',\n",
       " '444479',\n",
       " '444489',\n",
       " '455556',\n",
       " '455557',\n",
       " '455558',\n",
       " '455559',\n",
       " '456666',\n",
       " '457777',\n",
       " '458888',\n",
       " '459999',\n",
       " '466667',\n",
       " '466668',\n",
       " '466669',\n",
       " '467777',\n",
       " '468888',\n",
       " '469999',\n",
       " '477778',\n",
       " '477779',\n",
       " '478888',\n",
       " '479999',\n",
       " '488889',\n",
       " '489999',\n",
       " '555555',\n",
       " '555567',\n",
       " '555568',\n",
       " '555569',\n",
       " '555578',\n",
       " '555579',\n",
       " '555589',\n",
       " '566667',\n",
       " '566668',\n",
       " '566669',\n",
       " '567777',\n",
       " '568888',\n",
       " '569999',\n",
       " '577778',\n",
       " '577779',\n",
       " '578888',\n",
       " '579999',\n",
       " '588889',\n",
       " '589999'}"
      ]
     },
     "execution_count": 105,
     "metadata": {},
     "output_type": "execute_result"
    }
   ],
   "source": []
  },
  {
   "cell_type": "code",
   "execution_count": null,
   "metadata": {},
   "outputs": [],
   "source": []
  },
  {
   "cell_type": "code",
   "execution_count": null,
   "metadata": {},
   "outputs": [],
   "source": []
  },
  {
   "cell_type": "code",
   "execution_count": null,
   "metadata": {},
   "outputs": [],
   "source": []
  },
  {
   "cell_type": "code",
   "execution_count": null,
   "metadata": {},
   "outputs": [],
   "source": []
  },
  {
   "cell_type": "code",
   "execution_count": null,
   "metadata": {},
   "outputs": [],
   "source": []
  },
  {
   "cell_type": "code",
   "execution_count": null,
   "metadata": {},
   "outputs": [],
   "source": []
  },
  {
   "cell_type": "code",
   "execution_count": null,
   "metadata": {},
   "outputs": [],
   "source": []
  },
  {
   "cell_type": "code",
   "execution_count": null,
   "metadata": {},
   "outputs": [],
   "source": []
  },
  {
   "cell_type": "code",
   "execution_count": null,
   "metadata": {},
   "outputs": [],
   "source": []
  },
  {
   "cell_type": "code",
   "execution_count": null,
   "metadata": {},
   "outputs": [],
   "source": []
  },
  {
   "cell_type": "code",
   "execution_count": null,
   "metadata": {},
   "outputs": [],
   "source": []
  },
  {
   "cell_type": "code",
   "execution_count": null,
   "metadata": {},
   "outputs": [],
   "source": []
  },
  {
   "cell_type": "code",
   "execution_count": null,
   "metadata": {},
   "outputs": [],
   "source": []
  },
  {
   "cell_type": "code",
   "execution_count": null,
   "metadata": {},
   "outputs": [],
   "source": []
  },
  {
   "cell_type": "code",
   "execution_count": null,
   "metadata": {},
   "outputs": [],
   "source": []
  },
  {
   "cell_type": "code",
   "execution_count": null,
   "metadata": {},
   "outputs": [],
   "source": []
  },
  {
   "cell_type": "code",
   "execution_count": null,
   "metadata": {},
   "outputs": [],
   "source": []
  },
  {
   "cell_type": "code",
   "execution_count": null,
   "metadata": {},
   "outputs": [],
   "source": []
  },
  {
   "cell_type": "code",
   "execution_count": null,
   "metadata": {},
   "outputs": [],
   "source": []
  },
  {
   "cell_type": "code",
   "execution_count": null,
   "metadata": {},
   "outputs": [],
   "source": []
  },
  {
   "cell_type": "code",
   "execution_count": null,
   "metadata": {},
   "outputs": [],
   "source": []
  },
  {
   "cell_type": "code",
   "execution_count": null,
   "metadata": {},
   "outputs": [],
   "source": []
  }
 ],
 "metadata": {
  "kernelspec": {
   "display_name": "Python 3",
   "language": "python",
   "name": "python3"
  },
  "language_info": {
   "codemirror_mode": {
    "name": "ipython",
    "version": 3
   },
   "file_extension": ".py",
   "mimetype": "text/x-python",
   "name": "python",
   "nbconvert_exporter": "python",
   "pygments_lexer": "ipython3",
   "version": "3.7.4"
  }
 },
 "nbformat": 4,
 "nbformat_minor": 4
}
