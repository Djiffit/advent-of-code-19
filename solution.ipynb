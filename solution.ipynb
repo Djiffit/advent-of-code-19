{
 "cells": [
  {
   "cell_type": "code",
   "execution_count": 99,
   "metadata": {},
   "outputs": [],
   "source": [
    "import re\n",
    "import numpy as np\n",
    "from functools import reduce\n",
    "from collections import defaultdict\n",
    "from itertools import permutations\n",
    "from copy import deepcopy\n",
    "from string import ascii_uppercase, ascii_lowercase\n",
    "\n",
    "def find_nums(s, neg = False):\n",
    "    if neg:\n",
    "        return re.findall(r'-?\\d+', s)\n",
    "    return re.findall(r'\\d+', s)"
   ]
  },
  {
   "cell_type": "code",
   "execution_count": 100,
   "metadata": {},
   "outputs": [
    {
     "name": "stdout",
     "output_type": "stream",
     "text": [
      "3252897 4876469\n"
     ]
    }
   ],
   "source": [
    "# 1\n",
    "\n",
    "def count_fuel(weight):\n",
    "    weight = weight // 3 - 2\n",
    "    if weight > 0: return weight + count_fuel(weight)\n",
    "    return 0\n",
    "\n",
    "def fueling(data):\n",
    "    weights = [max((int(d) // 3) - 2, 0) for d in data]\n",
    "    fuels = sum([count_fuel(x) for x in weights])\n",
    "    print(sum(weights), sum(weights) + fuels)\n",
    "\n",
    "with open('1') as f:\n",
    "    fueling(f.read().split('\\n'))\n"
   ]
  },
  {
   "cell_type": "code",
   "execution_count": 101,
   "metadata": {},
   "outputs": [
    {
     "name": "stdout",
     "output_type": "stream",
     "text": [
      "490699\n",
      "64 21\n"
     ]
    }
   ],
   "source": [
    "# 2\n",
    "\n",
    "def opcodes(d, p1=True):\n",
    "    for x in range(100):\n",
    "        for y in range(100):\n",
    "            data = [*(map(int, d))]\n",
    "            data[1] = x\n",
    "            data[2] = y\n",
    "            i = 0\n",
    "            while True:\n",
    "                if i > len(data) - 3:\n",
    "                    op, f, s, res = data[i:i + 4] + data[:((i + 4) % len(data))]\n",
    "                else:\n",
    "                    op, f, s, res = data[i:i+4]\n",
    "                newpos = int(res) % int(len(data))\n",
    "                if op == 99:\n",
    "                    if p1:\n",
    "                        print(data[0])\n",
    "                        return\n",
    "                    else:\n",
    "                        if data[0] == 19690720:\n",
    "                            print(x, y)\n",
    "                            return\n",
    "                    break\n",
    "                elif op == 1:\n",
    "                    data[newpos] = data[f] + data[s]\n",
    "                elif op == 2:\n",
    "                    data[newpos] = data[f] * data[s]\n",
    "\n",
    "                i = (i + 4) % len(data)\n",
    "\n",
    "with open('2') as f:\n",
    "    lines = f.read().split(',')\n",
    "    opcodes(lines)\n",
    "    opcodes(lines, False)"
   ]
  },
  {
   "cell_type": "code",
   "execution_count": 102,
   "metadata": {},
   "outputs": [
    {
     "name": "stdout",
     "output_type": "stream",
     "text": [
      "1017\n",
      "11432\n"
     ]
    }
   ],
   "source": [
    "# 3\n",
    "\n",
    "def wire_crossing(lines):\n",
    "    intersects = set([])\n",
    "    points = [{},{}]\n",
    "    dx = {'L': -1, 'R': 1, 'U': 0, 'D': 0}\n",
    "    dy = {'L': 0, 'R': 0, 'U': 1, 'D': -1}\n",
    "    for i, line in enumerate(lines):\n",
    "        x=y=0\n",
    "        directions = line.split(',')\n",
    "        curr_dist = 0\n",
    "        for d in directions:\n",
    "            length = int(find_nums(d)[0])\n",
    "            di = d[0]\n",
    "            for j in range(length):\n",
    "                x += dx[di]\n",
    "                y += dy[di]\n",
    "                curr_dist += 1\n",
    "                \n",
    "                if (x, y) not in points[i]:\n",
    "                    points[i][(x, y)] = curr_dist\n",
    "                    if i == 1 and (x, y) in points[0]:\n",
    "                        intersects.add((x, y, points[1][(x, y)] + points[0][(x, y)]))\n",
    "                        \n",
    "    print(sorted([abs(p[0]) + abs(p[1]) for p in intersects])[0])\n",
    "    print(sorted([abs(p[2]) for p in intersects])[0])\n",
    "                \n",
    "with open('3') as f:\n",
    "    lines = f.readlines()\n",
    "    wire_crossing(lines)\n",
    "    "
   ]
  },
  {
   "cell_type": "code",
   "execution_count": 108,
   "metadata": {},
   "outputs": [
    {
     "name": "stdout",
     "output_type": "stream",
     "text": [
      "1148\n"
     ]
    }
   ],
   "source": [
    "# 4\n",
    "def passswordssses(nums):\n",
    "    start, end = [int(x) for x in nums]\n",
    "    valid_password = 0\n",
    "    for i in range(start, end + 1):\n",
    "        i = [*str(i)]\n",
    "        first,second,third,fourth,fifth,sixth = i\n",
    "        if first <= second <= third <= fourth <= fifth <= sixth:\n",
    "            counts = defaultdict(int)\n",
    "            for c in i:\n",
    "                counts[c] += 1\n",
    "            valid_password += any([v == 2 for v in counts.values()])\n",
    "\n",
    "    print(valid_password)\n",
    "    \n",
    "with open('4') as f:\n",
    "    lines = f.read().split('-')\n",
    "    passswordssses(lines)\n",
    "    "
   ]
  },
  {
   "cell_type": "code",
   "execution_count": 228,
   "metadata": {},
   "outputs": [
    {
     "name": "stdin",
     "output_type": "stream",
     "text": [
      " 5\n"
     ]
    },
    {
     "name": "stdout",
     "output_type": "stream",
     "text": [
      "Output: 15586959\n",
      "EXITING 314\n"
     ]
    }
   ],
   "source": [
    "# 5\n",
    "\n",
    "with open('5') as f:\n",
    "    params = [int(c) for c in f.read().split(',')]\n",
    "    i = 0\n",
    "    while True:\n",
    "        op = '0' * (5 - len(str(params[i]))) + str(params[i])\n",
    "        opcode = op[-2:]\n",
    "        p_types = [c for c in reversed('0' * (5 - len(op)) + op[:-2])]\n",
    "        get_param = lambda mode, pos: params[pos] if mode == '1' else params[params[pos]]\n",
    "\n",
    "        if opcode == '04':\n",
    "            print('Output:', get_param(p_types[0], i + 1))\n",
    "            i += 2\n",
    "        elif opcode == '05':\n",
    "            p1 = get_param(p_types[0], i + 1)\n",
    "            if p1:\n",
    "                i = get_param(p_types[1], i + 2)\n",
    "            else:\n",
    "                i += 3\n",
    "        elif opcode == '06':\n",
    "            p1 = get_param(p_types[0], i + 1)\n",
    "            if p1 == 0:\n",
    "                i = get_param(p_types[1], i + 2)\n",
    "            else:\n",
    "                i += 3\n",
    "        elif opcode == '07':\n",
    "            p1, p2, p3 = get_param(p_types[0], i + 1), get_param(p_types[1], i + 2), get_param(p_types[2], i + 3)\n",
    "            params[params[i + 3]] = int(p1 < p2)\n",
    "            i += 4\n",
    "        elif opcode == '08':\n",
    "            p1, p2, p3 = get_param(p_types[0], i + 1), get_param(p_types[1], i + 2), get_param(p_types[2], i + 3)\n",
    "            params[params[i + 3]] = int(p1 == p2)\n",
    "            i += 4\n",
    "        elif opcode == '03':\n",
    "            param = int(input())\n",
    "            params[params[i + 1]] = param\n",
    "            i += 2\n",
    "        elif opcode == '99':\n",
    "            print('EXITING', params[0])\n",
    "            break\n",
    "        elif opcode == '01':\n",
    "            params[params[i + 3]] = get_param(p_types[0], i + 1) + get_param(p_types[1], i + 2)\n",
    "            i += 4\n",
    "        elif opcode == '02':\n",
    "            params[params[i + 3]] = get_param(p_types[0], i + 1) * get_param(p_types[1], i + 2)\n",
    "            i += 4\n",
    "        else:\n",
    "            print(\"ERROR ERROR ERROR ERROR !!!!!!!!!!!!!!!!!!!!!!!!!\")\n",
    "\n",
    "            \n",
    "        "
   ]
  },
  {
   "cell_type": "code",
   "execution_count": 106,
   "metadata": {},
   "outputs": [
    {
     "name": "stdout",
     "output_type": "stream",
     "text": [
      "300598\n",
      "520\n"
     ]
    }
   ],
   "source": [
    "# 6\n",
    "\n",
    "class Node:\n",
    "    def __init__(self, val):\n",
    "        self.parents = []\n",
    "        self.children = []\n",
    "        self.val = val\n",
    "\n",
    "def recurse_tree(node, depth):\n",
    "    total = depth\n",
    "    for n in node.children:\n",
    "        total += recurse_tree(n, depth + 1)\n",
    "    return total\n",
    "        \n",
    "def finders_keepers(data):\n",
    "    nodes = {}\n",
    "    directs = 0\n",
    "    \n",
    "    for target, orbiter in [d.split(')') for d in data]:\n",
    "        if target not in nodes:\n",
    "            nodes[target] = Node(target)\n",
    "        if orbiter not in nodes:\n",
    "            nodes[orbiter] = Node(orbiter)\n",
    "        nodes[target].children += [nodes[orbiter]]\n",
    "        nodes[orbiter].parents += [nodes[target]]\n",
    "        directs += 1\n",
    "        \n",
    "    for n in nodes.values():\n",
    "        if len(n.parents) == 0:\n",
    "            for node in n.children:\n",
    "                indirects = recurse_tree(node, 0)\n",
    "                \n",
    "    print(directs + indirects)\n",
    "    \n",
    "    queue = [(n, 1) for n in nodes['YOU'].children + nodes['YOU'].parents]\n",
    "    visited = set(queue)\n",
    "    while len(queue) > 0:\n",
    "        curr, dist = queue.pop(0)\n",
    "        if curr.val == 'SAN':\n",
    "            print(dist - 2)\n",
    "            break\n",
    "        for n in curr.children + curr.parents:\n",
    "            if n not in visited:\n",
    "                queue += [(n, dist + 1)]\n",
    "            \n",
    "        visited.add(curr)\n",
    "            \n",
    "\n",
    "with open('6') as f:\n",
    "    lines = f.read().split('\\n')\n",
    "    finders_keepers(lines)"
   ]
  },
  {
   "cell_type": "code",
   "execution_count": 233,
   "metadata": {},
   "outputs": [
    {
     "name": "stdout",
     "output_type": "stream",
     "text": [
      "61019896\n"
     ]
    }
   ],
   "source": [
    "# 7\n",
    "\n",
    "class Program:\n",
    "    def __init__(self, ip, state):\n",
    "        self.ip = ip\n",
    "        self.state = state\n",
    "        self.i = 0\n",
    "        self.inputs = [ip]\n",
    "        \n",
    "    def add_input(self, val):\n",
    "        self.inputs += [val]\n",
    "        \n",
    "    def step(self):\n",
    "        while True:\n",
    "            op = '0' * (5 - len(str(self.state[self.i]))) + str(self.state[self.i])\n",
    "            opcode = op[-2:]\n",
    "            p_types = [c for c in reversed('0' * (5 - len(op)) + op[:-2])]\n",
    "            get_param = lambda mode, pos: self.state[pos] if mode == '1' else self.state[self.state[pos]]\n",
    "\n",
    "            if opcode == '04':\n",
    "                out = get_param(p_types[0], self.i + 1)\n",
    "                self.i += 2\n",
    "                return out\n",
    "            elif opcode == '05':\n",
    "                p1 = get_param(p_types[0], self.i + 1)\n",
    "                if p1:\n",
    "                    self.i = get_param(p_types[1], self.i + 2)\n",
    "                else:\n",
    "                    self.i += 3\n",
    "            elif opcode == '06':\n",
    "                p1 = get_param(p_types[0], self.i + 1)\n",
    "                if p1 == 0:\n",
    "                    self.i = get_param(p_types[1], self.i + 2)\n",
    "                else:\n",
    "                    self.i += 3\n",
    "            elif opcode == '07':\n",
    "                p1, p2, p3 = get_param(p_types[0], self.i + 1), get_param(p_types[1], self.i + 2), get_param(p_types[2], self.i + 3)\n",
    "                self.state[self.state[self.i + 3]] = int(p1 < p2)\n",
    "                self.i += 4\n",
    "            elif opcode == '08':\n",
    "                p1, p2, p3 = get_param(p_types[0], self.i + 1), get_param(p_types[1], self.i + 2), get_param(p_types[2], self.i + 3)\n",
    "                self.state[self.state[self.i + 3]] = int(p1 == p2)\n",
    "                self.i += 4\n",
    "            elif opcode == '03':\n",
    "                param = self.inputs.pop(0)\n",
    "                self.state[self.state[self.i + 1]] = param\n",
    "                self.i += 2\n",
    "            elif opcode == '99':\n",
    "                return 'EXIT'\n",
    "            elif opcode == '01':\n",
    "                self.state[self.state[self.i + 3]] = get_param(p_types[0], self.i + 1) + get_param(p_types[1], self.i + 2)\n",
    "                self.i += 4\n",
    "            elif opcode == '02':\n",
    "                self.state[self.state[self.i + 3]] = get_param(p_types[0], self.i + 1) * get_param(p_types[1], self.i + 2)\n",
    "                self.i += 4\n",
    "            else:\n",
    "                print(\"ERROR ERROR ERROR ERROR !!!!!!!!!!!!!!!!!!!!!!!!!\", len(self.state), self.state)\n",
    "                return 'ERROR'\n",
    "            \n",
    "def solverson(data):\n",
    "    data = [int(c) for c in data.split(',')]\n",
    "    \n",
    "    rec = 0\n",
    "    for inputs in permutations(range(5, 10), 5):\n",
    "        val = 0\n",
    "        state = [Program(inputs[v], deepcopy(data)) for v in range(5)]\n",
    "        while True:\n",
    "            for program in state:\n",
    "                program.add_input(val)\n",
    "                returned = program.step()\n",
    "                val = returned\n",
    "            if returned == 'EXIT':\n",
    "                break\n",
    "            rec = max(rec, val)\n",
    "    print(rec)\n",
    "\n",
    "with open('7') as f:\n",
    "    lines = f.read()\n",
    "    solverson(lines)"
   ]
  },
  {
   "cell_type": "code",
   "execution_count": 361,
   "metadata": {},
   "outputs": [
    {
     "name": "stdout",
     "output_type": "stream",
     "text": [
      "1596\n"
     ]
    },
    {
     "data": {
      "image/png": "[encoded data removed]",
      "text/plain": [
       "<Figure size 432x288 with 1 Axes>"
      ]
     },
     "metadata": {
      "needs_background": "light"
     },
     "output_type": "display_data"
    }
   ],
   "source": [
    "# 8 \n",
    "\n",
    "import matplotlib.pyplot as plt\n",
    "\n",
    "def eight(data, l, w):\n",
    "    arr = np.array([int(c) for c in data]).reshape((l,w,len(data) // (l * w)))\n",
    "    curr = []\n",
    "    best_sum= float('inf')\n",
    "    bs = []\n",
    "    for ind, i in enumerate((data)):\n",
    "        curr += [int(i)]\n",
    "        mod = ind % (w * l)\n",
    "\n",
    "        if mod == l * w- 1:\n",
    "            arr[:,:,ind // (l * w)] = np.array(curr).reshape(l,w)\n",
    "            if sum([c == 0 for c in curr]) < best_sum:\n",
    "                bs = curr\n",
    "                best_sum = sum([c == 0 for c in curr])\n",
    "            curr = []\n",
    "            \n",
    "    print(sum([c == 1 for c in bs]) * sum([c == 2 for c in bs]))\n",
    "    \n",
    "    img = np.zeros((l, w))\n",
    "    for y in range(l):\n",
    "        for x in range(w):\n",
    "            img[y, x] = 2\n",
    "            for pix in range(len(data) // (l * w)):\n",
    "                if arr[y, x, pix] != 2:\n",
    "                    img[y, x] = arr[y, x, pix]\n",
    "                    break\n",
    "    plt.imshow(img)\n",
    "    plt.show()\n",
    "    \n",
    "with open('8') as f:\n",
    "    lines = f.read()\n",
    "    eight(lines, 6,25)"
   ]
  },
  {
   "cell_type": "code",
   "execution_count": null,
   "metadata": {},
   "outputs": [],
   "source": []
  },
  {
   "cell_type": "code",
   "execution_count": null,
   "metadata": {},
   "outputs": [],
   "source": []
  },
  {
   "cell_type": "code",
   "execution_count": null,
   "metadata": {},
   "outputs": [],
   "source": []
  },
  {
   "cell_type": "code",
   "execution_count": null,
   "metadata": {},
   "outputs": [],
   "source": []
  },
  {
   "cell_type": "code",
   "execution_count": null,
   "metadata": {},
   "outputs": [],
   "source": []
  },
  {
   "cell_type": "code",
   "execution_count": null,
   "metadata": {},
   "outputs": [],
   "source": []
  },
  {
   "cell_type": "code",
   "execution_count": null,
   "metadata": {},
   "outputs": [],
   "source": []
  },
  {
   "cell_type": "code",
   "execution_count": null,
   "metadata": {},
   "outputs": [],
   "source": []
  },
  {
   "cell_type": "code",
   "execution_count": null,
   "metadata": {},
   "outputs": [],
   "source": []
  },
  {
   "cell_type": "code",
   "execution_count": null,
   "metadata": {},
   "outputs": [],
   "source": []
  },
  {
   "cell_type": "code",
   "execution_count": null,
   "metadata": {},
   "outputs": [],
   "source": []
  },
  {
   "cell_type": "code",
   "execution_count": null,
   "metadata": {},
   "outputs": [],
   "source": []
  },
  {
   "cell_type": "code",
   "execution_count": null,
   "metadata": {},
   "outputs": [],
   "source": []
  },
  {
   "cell_type": "code",
   "execution_count": null,
   "metadata": {},
   "outputs": [],
   "source": []
  },
  {
   "cell_type": "code",
   "execution_count": null,
   "metadata": {},
   "outputs": [],
   "source": []
  },
  {
   "cell_type": "code",
   "execution_count": null,
   "metadata": {},
   "outputs": [],
   "source": []
  },
  {
   "cell_type": "code",
   "execution_count": null,
   "metadata": {},
   "outputs": [],
   "source": []
  },
  {
   "cell_type": "code",
   "execution_count": null,
   "metadata": {},
   "outputs": [],
   "source": []
  },
  {
   "cell_type": "code",
   "execution_count": null,
   "metadata": {},
   "outputs": [],
   "source": []
  },
  {
   "cell_type": "code",
   "execution_count": null,
   "metadata": {},
   "outputs": [],
   "source": []
  },
  {
   "cell_type": "code",
   "execution_count": null,
   "metadata": {},
   "outputs": [],
   "source": []
  }
 ],
 "metadata": {
  "kernelspec": {
   "display_name": "Python 3",
   "language": "python",
   "name": "python3"
  },
  "language_info": {
   "codemirror_mode": {
    "name": "ipython",
    "version": 3
   },
   "file_extension": ".py",
   "mimetype": "text/x-python",
   "name": "python",
   "nbconvert_exporter": "python",
   "pygments_lexer": "ipython3",
   "version": "3.7.3"
  }
 },
 "nbformat": 4,
 "nbformat_minor": 4
}
